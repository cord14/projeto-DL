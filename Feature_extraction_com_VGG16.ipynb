{
  "nbformat": 4,
  "nbformat_minor": 0,
  "metadata": {
    "colab": {
      "name": "Feature extraction com VGG16",
      "provenance": [],
      "mount_file_id": "1dq6Pmgit6XX8fE4dyEyAXTIBORNW4_D3",
      "authorship_tag": "ABX9TyPvuPTMP+4eUF2oGSkJXFtG",
      "include_colab_link": true
    },
    "kernelspec": {
      "name": "python3",
      "display_name": "Python 3"
    },
    "language_info": {
      "name": "python"
    }
  },
  "cells": [
    {
      "cell_type": "markdown",
      "metadata": {
        "id": "view-in-github",
        "colab_type": "text"
      },
      "source": [
        "<a href=\"https://colab.research.google.com/github/cord14/projeto-DL/blob/main/Feature_extraction_com_VGG16.ipynb\" target=\"_parent\"><img src=\"https://colab.research.google.com/assets/colab-badge.svg\" alt=\"Open In Colab\"/></a>"
      ]
    },
    {
      "cell_type": "code",
      "metadata": {
        "id": "ooDHpP55Dp0H"
      },
      "source": [
        "#Importando as bibliotecas\n",
        "import numpy as np\n",
        "import tensorflow as tf\n",
        "from keras.preprocessing import image\n",
        "from tensorflow.keras import layers\n",
        "from keras.applications.vgg16 import VGG16\n",
        "from keras.applications.vgg16 import preprocess_input\n",
        "from sklearn.model_selection import train_test_split\n",
        "import os\n",
        "import shutil\n",
        "from os.path import isfile, join, abspath, exists, isdir, expanduser\n",
        "from os import listdir, makedirs, getcwd, remove"
      ],
      "execution_count": null,
      "outputs": []
    },
    {
      "cell_type": "code",
      "metadata": {
        "id": "9NlpGbg_F1vE",
        "colab": {
          "base_uri": "https://localhost:8080/"
        },
        "outputId": "63628d2c-cef5-42f6-916c-cee5ab0ac258"
      },
      "source": [
        "#Importando o dataset\n",
        "esq_dir=('/content/drive/MyDrive/Dataset_VGG/11(esq)')\n",
        "dir_dir=('/content/drive/MyDrive/Dataset_VGG/21(dir)')\n",
        "esq=os.listdir(esq_dir)\n",
        "dir=os.listdir(dir_dir)\n",
        "tds=esq+dir\n",
        "print (len(tds))\n",
        "print(dir)"
      ],
      "execution_count": null,
      "outputs": [
        {
          "output_type": "stream",
          "text": [
            "2753\n",
            "['S04_C1_21_22.png', 'S04_C1_21_23.png', 'S04_C1_21_21.png', 'S04_C1_21_24.png', 'S04_C1_21_25.png', 'S04_C1_21_27.png', 'S04_C1_21_26.png', 'S04_C1_21_28.png', 'S04_C1_21_30.png', 'S04_C1_21_29.png', 'S04_C1_21_31.png', 'S04_C1_21_32.png', 'S04_C1_21_34.png', 'S04_C1_21_33.png', 'S04_C1_21_35.png', 'S04_C1_21_36.png', 'S04_C1_21_37.png', 'S04_C1_21_38.png', 'S04_C1_21_39.png', 'S04_C1_21_40.png', 'S04_C1_21_41.png', 'S04_C1_21_42.png', 'S04_C1_21_43.png', 'S04_C1_21_45.png', 'S04_C1_21_44.png', 'S04_C1_21_46.png', 'S04_C1_21_48.png', 'S04_C1_21_47.png', 'S04_C1_21_49.png', 'S04_C1_21_51.png', 'S04_C1_21_50.png', 'S04_C1_21_52.png', 'S04_C1_21_53.png', 'S04_C1_21_54.png', 'S04_C1_21_55.png', 'S04_C2_21_0.png', 'S04_C2_21_3.png', 'S04_C2_21_7.png', 'S04_C2_21_8.png', 'S04_C2_21_6.png', 'S04_C2_21_2.png', 'S04_C2_21_1.png', 'S04_C2_21_5.png', 'S04_C2_21_4.png', 'S04_C2_21_13.png', 'S04_C2_21_12.png', 'S04_C2_21_10.png', 'S04_C2_21_11.png', 'S04_C2_21_9.png', 'S04_C2_21_14.png', 'S04_C2_21_17.png', 'S04_C2_21_16.png', 'S04_C2_21_15.png', 'S04_C2_21_20.png', 'S04_C2_21_19.png', 'S04_C2_21_18.png', 'S04_C2_21_23.png', 'S04_C2_21_21.png', 'S04_C2_21_22.png', 'S04_C2_21_24.png', 'S04_C2_21_26.png', 'S04_C2_21_25.png', 'S04_C2_21_27.png', 'S04_C2_21_28.png', 'S04_C2_21_29.png', 'S04_C2_21_30.png', 'S04_C2_21_31.png', 'S04_C2_21_32.png', 'S04_C2_21_34.png', 'S04_C2_21_33.png', 'S04_C2_21_36.png', 'S04_C2_21_35.png', 'S04_C2_21_37.png', 'S04_C2_21_38.png', 'S04_C2_21_40.png', 'S04_C2_21_39.png', 'S04_C2_21_41.png', 'S04_C2_21_43.png', 'S04_C2_21_42.png', 'S04_C2_21_44.png', 'S04_C2_21_46.png', 'S04_C2_21_45.png', 'S04_C2_21_47.png', 'S04_C2_21_48.png', 'S04_C2_21_49.png', 'S04_C2_21_50.png', 'S04_C2_21_51.png', 'S04_C2_21_52.png', 'S04_C2_21_53.png', 'S04_C2_21_54.png', 'S04_C2_21_55.png', 'S05_Cz_21_1.png', 'S05_Cz_21_0.png', 'S05_Cz_21_7.png', 'S05_Cz_21_3.png', 'S05_Cz_21_4.png', 'S05_Cz_21_8.png', 'S05_Cz_21_6.png', 'S05_Cz_21_5.png', 'S05_Cz_21_2.png', 'S05_Cz_21_13.png', 'S05_Cz_21_11.png', 'S05_Cz_21_12.png', 'S05_Cz_21_10.png', 'S05_Cz_21_9.png', 'S05_Cz_21_14.png', 'S05_Cz_21_16.png', 'S05_Cz_21_15.png', 'S05_Cz_21_18.png', 'S05_Cz_21_17.png', 'S05_Cz_21_19.png', 'S05_Cz_21_21.png', 'S05_Cz_21_22.png', 'S05_Cz_21_20.png', 'S05_Cz_21_24.png', 'S05_Cz_21_23.png', 'S05_Cz_21_25.png', 'S05_Cz_21_26.png', 'S05_Cz_21_27.png', 'S05_Cz_21_28.png', 'S05_Cz_21_29.png', 'S05_Cz_21_30.png', 'S05_Cz_21_31.png', 'S05_Cz_21_32.png', 'S05_Cz_21_33.png', 'S05_Cz_21_34.png', 'S05_Cz_21_35.png', 'S05_Cz_21_36.png', 'S05_Cz_21_37.png', 'S05_Cz_21_38.png', 'S05_Cz_21_40.png', 'S05_Cz_21_39.png', 'S05_Cz_21_41.png', 'S05_Cz_21_43.png', 'S05_Cz_21_42.png', 'S05_Cz_21_44.png', 'S05_Cz_21_45.png', 'S05_Cz_21_46.png', 'S05_Cz_21_47.png', 'S05_C1_21_0.png', 'S05_C1_21_1.png', 'S05_C1_21_6.png', 'S05_C1_21_7.png', 'S05_C1_21_2.png', 'S05_C1_21_5.png', 'S05_C1_21_3.png', 'S05_C1_21_4.png', 'S05_C1_21_9.png', 'S05_C1_21_12.png', 'S05_C1_21_10.png', 'S05_C1_21_8.png', 'S05_C1_21_11.png', 'S05_C1_21_13.png', 'S05_C1_21_15.png', 'S05_C1_21_14.png', 'S05_C1_21_18.png', 'S05_C1_21_16.png', 'S05_C1_21_17.png', 'S05_C1_21_20.png', 'S05_C1_21_21.png', 'S05_C1_21_19.png', 'S05_C1_21_24.png', 'S05_C1_21_23.png', 'S05_C1_21_22.png', 'S05_C1_21_27.png', 'S05_C1_21_25.png', 'S05_C1_21_26.png', 'S05_C1_21_29.png', 'S05_C1_21_28.png', 'S05_C1_21_31.png', 'S05_C1_21_30.png', 'S05_C1_21_32.png', 'S05_C1_21_33.png', 'S05_C1_21_34.png', 'S05_C1_21_35.png', 'S05_C1_21_37.png', 'S05_C1_21_36.png', 'S05_C1_21_38.png', 'S05_C1_21_40.png', 'S05_C1_21_39.png', 'S05_C1_21_41.png', 'S05_C1_21_43.png', 'S05_C1_21_42.png', 'S05_C1_21_44.png', 'S05_C1_21_46.png', 'S05_C1_21_45.png', 'S05_C1_21_47.png', 'S05_C2_21_1.png', 'S05_C2_21_0.png', 'S05_C2_21_7.png', 'S05_C2_21_4.png', 'S05_C2_21_6.png', 'S05_C2_21_8.png', 'S05_C2_21_5.png', 'S05_C2_21_2.png', 'S05_C2_21_3.png', 'S05_C2_21_10.png', 'S05_C2_21_12.png', 'S05_C2_21_11.png', 'S05_C2_21_13.png', 'S05_C2_21_9.png', 'S05_C2_21_14.png', 'S05_C2_21_15.png', 'S05_C2_21_16.png', 'S05_C2_21_18.png', 'S05_C2_21_17.png', 'S05_C2_21_19.png', 'S05_C2_21_20.png', 'S05_C2_21_22.png', 'S05_C2_21_21.png', 'S05_C2_21_25.png', 'S05_C2_21_23.png', 'S05_C2_21_24.png', 'S05_C2_21_27.png', 'S05_C2_21_26.png', 'S05_C2_21_28.png', 'S05_C2_21_29.png', 'S05_C2_21_30.png', 'S05_C2_21_31.png', 'S05_C2_21_32.png', 'S05_C2_21_33.png', 'S05_C2_21_35.png', 'S05_C2_21_34.png', 'S05_C2_21_37.png', 'S05_C2_21_36.png', 'S05_C2_21_39.png', 'S05_C2_21_38.png', 'S05_C2_21_40.png', 'S05_C2_21_42.png', 'S05_C2_21_41.png', 'S05_C2_21_43.png', 'S05_C2_21_44.png', 'S05_C2_21_45.png', 'S05_C2_21_46.png', 'S05_C2_21_47.png', 'S06_C2_21_1.png', 'S06_C2_21_5.png', 'S06_C2_21_0.png', 'S06_C2_21_3.png', 'S06_C2_21_2.png', 'S06_C2_21_4.png', 'S06_C2_21_6.png', 'S06_C2_21_8.png', 'S06_C2_21_7.png', 'S06_C2_21_11.png', 'S06_C2_21_9.png', 'S06_C2_21_10.png', 'S06_C2_21_12.png', 'S06_C2_21_13.png', 'S06_C2_21_14.png', 'S06_C2_21_15.png', 'S06_C2_21_17.png', 'S06_C2_21_16.png', 'S06_C2_21_19.png', 'S06_C2_21_18.png', 'S06_C2_21_20.png', 'S06_C2_21_21.png', 'S06_C2_21_22.png', 'S06_C2_21_23.png', 'S06_C2_21_24.png', 'S06_C2_21_25.png', 'S06_C2_21_27.png', 'S06_C2_21_26.png', 'S06_C2_21_28.png', 'S06_C2_21_29.png', 'S06_C2_21_31.png', 'S06_C2_21_30.png', 'S06_C2_21_32.png', 'S06_C2_21_33.png', 'S06_C2_21_34.png', 'S06_C2_21_36.png', 'S06_C2_21_35.png', 'S06_C2_21_37.png', 'S06_C2_21_38.png', 'S06_C2_21_39.png', 'S06_C2_21_41.png', 'S06_C2_21_40.png', 'S06_C2_21_42.png', 'S06_C2_21_43.png', 'S06_C2_21_44.png', 'S06_C2_21_45.png', 'S06_C2_21_46.png', 'S06_C2_21_47.png', 'S06_C1_21_0.png', 'S06_C1_21_1.png', 'S06_C1_21_5.png', 'S06_C1_21_2.png', 'S06_C1_21_4.png', 'S06_C1_21_3.png', 'S06_C1_21_10.png', 'S06_C1_21_11.png', 'S06_C1_21_9.png', 'S06_C1_21_6.png', 'S06_C1_21_7.png', 'S06_C1_21_8.png', 'S06_C1_21_13.png', 'S06_C1_21_14.png', 'S06_C1_21_12.png', 'S06_C1_21_15.png', 'S06_C1_21_18.png', 'S06_C1_21_17.png', 'S06_C1_21_16.png', 'S06_C1_21_19.png', 'S06_C1_21_20.png', 'S06_C1_21_21.png', 'S06_C1_21_24.png', 'S06_C1_21_23.png', 'S06_C1_21_22.png', 'S06_C1_21_26.png', 'S06_C1_21_25.png', 'S06_C1_21_28.png', 'S06_C1_21_27.png', 'S06_C1_21_29.png', 'S06_C1_21_31.png', 'S06_C1_21_30.png', 'S06_C1_21_32.png', 'S06_C1_21_33.png', 'S06_C1_21_35.png', 'S06_C1_21_34.png', 'S06_C1_21_36.png', 'S06_C1_21_37.png', 'S06_C1_21_38.png', 'S06_C1_21_39.png', 'S06_C1_21_40.png', 'S06_C1_21_41.png', 'S06_C1_21_43.png', 'S06_C1_21_42.png', 'S06_C1_21_44.png', 'S06_C1_21_45.png', 'S06_C1_21_46.png', 'S06_C1_21_47.png', 'S06_Cz_21_3.png', 'S06_Cz_21_4.png', 'S06_Cz_21_2.png', 'S06_Cz_21_5.png', 'S06_Cz_21_7.png', 'S06_Cz_21_1.png', 'S06_Cz_21_0.png', 'S06_Cz_21_6.png', 'S06_Cz_21_8.png', 'S06_Cz_21_10.png', 'S06_Cz_21_11.png', 'S06_Cz_21_9.png', 'S06_Cz_21_13.png', 'S06_Cz_21_12.png', 'S06_Cz_21_15.png', 'S06_Cz_21_14.png', 'S06_Cz_21_17.png', 'S06_Cz_21_16.png', 'S06_Cz_21_18.png', 'S06_Cz_21_20.png', 'S06_Cz_21_21.png', 'S06_Cz_21_19.png', 'S06_Cz_21_22.png', 'S06_Cz_21_23.png', 'S06_Cz_21_24.png', 'S06_Cz_21_25.png', 'S06_Cz_21_26.png', 'S06_Cz_21_27.png', 'S06_Cz_21_28.png', 'S06_Cz_21_31.png', 'S06_Cz_21_29.png', 'S06_Cz_21_30.png', 'S06_Cz_21_32.png', 'S06_Cz_21_33.png', 'S06_Cz_21_34.png', 'S06_Cz_21_35.png', 'S06_Cz_21_36.png', 'S06_Cz_21_38.png', 'S06_Cz_21_37.png', 'S06_Cz_21_39.png', 'S06_Cz_21_40.png', 'S06_Cz_21_41.png', 'S06_Cz_21_42.png', 'S06_Cz_21_43.png', 'S06_Cz_21_44.png', 'S06_Cz_21_46.png', 'S06_Cz_21_45.png', 'S06_Cz_21_47.png', 'S07_C2_21_0.png', 'S07_C2_21_1.png', 'S07_C2_21_2.png', 'S07_C2_21_3.png', 'S07_C2_21_4.png', 'S07_C2_21_5.png', 'S07_C2_21_6.png', 'S07_C2_21_7.png', 'S07_C2_21_8.png', 'S07_C2_21_9.png', 'S07_C2_21_10.png', 'S07_C2_21_11.png', 'S07_C2_21_12.png', 'S07_C2_21_13.png', 'S07_C2_21_14.png', 'S07_C2_21_15.png', 'S07_C2_21_16.png', 'S07_C2_21_17.png', 'S07_C2_21_18.png', 'S07_C2_21_19.png', 'S07_C2_21_20.png', 'S07_C2_21_21.png', 'S07_C2_21_22.png', 'S07_C2_21_23.png', 'S07_C2_21_24.png', 'S07_C2_21_25.png', 'S07_C2_21_26.png', 'S07_C2_21_27.png', 'S07_C2_21_28.png', 'S07_C2_21_29.png', 'S07_C2_21_30.png', 'S07_C2_21_31.png', 'S07_C2_21_32.png', 'S07_C2_21_33.png', 'S07_C2_21_34.png', 'S07_C2_21_35.png', 'S07_C2_21_36.png', 'S07_C2_21_37.png', 'S07_C2_21_38.png', 'S07_C2_21_39.png', 'S07_C2_21_40.png', 'S07_C2_21_41.png', 'S07_C2_21_42.png', 'S07_C2_21_43.png', 'S07_C2_21_44.png', 'S07_C2_21_45.png', 'S07_C2_21_46.png', 'S07_C2_21_47.png', 'S07_C2_21_48.png', 'S07_C2_21_49.png', 'S07_C2_21_50.png', 'S07_C1_21_0.png', 'S07_C1_21_1.png', 'S07_C1_21_2.png', 'S07_C1_21_3.png', 'S07_C1_21_4.png', 'S07_C1_21_5.png', 'S07_C1_21_6.png', 'S07_C1_21_7.png', 'S07_C1_21_8.png', 'S07_C1_21_9.png', 'S07_C1_21_10.png', 'S07_C1_21_11.png', 'S07_C1_21_12.png', 'S07_C1_21_13.png', 'S07_C1_21_14.png', 'S07_C1_21_15.png', 'S07_C1_21_16.png', 'S07_C1_21_17.png', 'S07_C1_21_18.png', 'S07_C1_21_19.png', 'S07_C1_21_20.png', 'S07_C1_21_21.png', 'S07_C1_21_22.png', 'S07_C1_21_23.png', 'S07_C1_21_24.png', 'S07_C1_21_25.png', 'S07_C1_21_26.png', 'S07_C1_21_27.png', 'S07_C1_21_28.png', 'S07_C1_21_29.png', 'S07_C1_21_30.png', 'S07_C1_21_31.png', 'S07_C1_21_32.png', 'S07_C1_21_33.png', 'S07_C1_21_34.png', 'S07_C1_21_35.png', 'S07_C1_21_36.png', 'S07_C1_21_37.png', 'S07_C1_21_38.png', 'S07_C1_21_39.png', 'S07_C1_21_40.png', 'S07_C1_21_41.png', 'S07_C1_21_42.png', 'S07_C1_21_43.png', 'S07_C1_21_44.png', 'S07_C1_21_45.png', 'S07_C1_21_46.png', 'S07_C1_21_47.png', 'S07_C1_21_48.png', 'S07_C1_21_49.png', 'S07_C1_21_50.png', 'S07_Cz_21_0.png', 'S07_Cz_21_1.png', 'S07_Cz_21_2.png', 'S07_Cz_21_3.png', 'S07_Cz_21_4.png', 'S07_Cz_21_5.png', 'S07_Cz_21_6.png', 'S07_Cz_21_7.png', 'S07_Cz_21_8.png', 'S07_Cz_21_9.png', 'S07_Cz_21_10.png', 'S07_Cz_21_11.png', 'S07_Cz_21_12.png', 'S07_Cz_21_13.png', 'S07_Cz_21_14.png', 'S07_Cz_21_15.png', 'S07_Cz_21_16.png', 'S07_Cz_21_17.png', 'S07_Cz_21_18.png', 'S07_Cz_21_19.png', 'S07_Cz_21_20.png', 'S07_Cz_21_21.png', 'S07_Cz_21_22.png', 'S07_Cz_21_23.png', 'S07_Cz_21_24.png', 'S07_Cz_21_25.png', 'S07_Cz_21_26.png', 'S07_Cz_21_27.png', 'S07_Cz_21_28.png', 'S07_Cz_21_29.png', 'S07_Cz_21_30.png', 'S07_Cz_21_31.png', 'S07_Cz_21_32.png', 'S07_Cz_21_33.png', 'S07_Cz_21_34.png', 'S07_Cz_21_35.png', 'S07_Cz_21_36.png', 'S07_Cz_21_37.png', 'S07_Cz_21_38.png', 'S07_Cz_21_39.png', 'S07_Cz_21_40.png', 'S07_Cz_21_41.png', 'S07_Cz_21_42.png', 'S07_Cz_21_43.png', 'S07_Cz_21_44.png', 'S07_Cz_21_45.png', 'S07_Cz_21_46.png', 'S07_Cz_21_47.png', 'S07_Cz_21_48.png', 'S07_Cz_21_49.png', 'S07_Cz_21_50.png', 'S08_C2_21_0.png', 'S08_C2_21_1.png', 'S08_C2_21_2.png', 'S08_C2_21_5.png', 'S08_C2_21_3.png', 'S08_C2_21_4.png', 'S08_C2_21_7.png', 'S08_C2_21_6.png', 'S08_C2_21_8.png', 'S08_C2_21_10.png', 'S08_C2_21_9.png', 'S08_C2_21_12.png', 'S08_C2_21_11.png', 'S08_C2_21_13.png', 'S08_C2_21_14.png', 'S08_C2_21_15.png', 'S08_C2_21_16.png', 'S08_C2_21_17.png', 'S08_C2_21_18.png', 'S08_C2_21_19.png', 'S08_C2_21_20.png', 'S08_C2_21_22.png', 'S08_C2_21_21.png', 'S08_C2_21_23.png', 'S08_C2_21_24.png', 'S08_C2_21_25.png', 'S08_C2_21_26.png', 'S08_C1_21_1.png', 'S08_C1_21_0.png', 'S08_C1_21_2.png', 'S08_C1_21_3.png', 'S08_C1_21_4.png', 'S08_C1_21_5.png', 'S08_C1_21_7.png', 'S08_C1_21_6.png', 'S08_C1_21_8.png', 'S08_C1_21_9.png', 'S08_C1_21_10.png', 'S08_C1_21_11.png', 'S08_C1_21_12.png', 'S08_C1_21_13.png', 'S08_C1_21_14.png', 'S08_C1_21_15.png', 'S08_C1_21_16.png', 'S08_C1_21_17.png', 'S08_C1_21_18.png', 'S08_C1_21_19.png', 'S08_C1_21_20.png', 'S08_C1_21_21.png', 'S08_C1_21_22.png', 'S08_C1_21_23.png', 'S08_C1_21_24.png', 'S08_C1_21_25.png', 'S08_C1_21_26.png', 'S08_Cz_21_0.png', 'S08_Cz_21_1.png', 'S08_Cz_21_2.png', 'S08_Cz_21_3.png', 'S08_Cz_21_4.png', 'S08_Cz_21_5.png', 'S08_Cz_21_6.png', 'S08_Cz_21_7.png', 'S08_Cz_21_8.png', 'S08_Cz_21_9.png', 'S08_Cz_21_10.png', 'S08_Cz_21_11.png', 'S08_Cz_21_12.png', 'S08_Cz_21_13.png', 'S08_Cz_21_14.png', 'S08_Cz_21_15.png', 'S08_Cz_21_16.png', 'S08_Cz_21_17.png', 'S08_Cz_21_18.png', 'S08_Cz_21_19.png', 'S08_Cz_21_20.png', 'S08_Cz_21_21.png', 'S08_Cz_21_22.png', 'S08_Cz_21_23.png', 'S08_Cz_21_24.png', 'S08_Cz_21_25.png', 'S08_Cz_21_26.png', 'S10_Cz_21_6.png', 'S10_Cz_21_1.png', 'S10_Cz_21_3.png', 'S10_Cz_21_2.png', 'S10_Cz_21_5.png', 'S10_Cz_21_4.png', 'S10_Cz_21_0.png', 'S10_Cz_21_10.png', 'S10_Cz_21_8.png', 'S10_Cz_21_9.png', 'S10_Cz_21_7.png', 'S10_Cz_21_11.png', 'S10_Cz_21_12.png', 'S10_Cz_21_13.png', 'S10_Cz_21_15.png', 'S10_Cz_21_14.png', 'S10_Cz_21_16.png', 'S10_Cz_21_18.png', 'S10_Cz_21_17.png', 'S10_Cz_21_19.png', 'S10_Cz_21_22.png', 'S10_Cz_21_20.png', 'S10_Cz_21_21.png', 'S10_Cz_21_25.png', 'S10_Cz_21_23.png', 'S10_Cz_21_24.png', 'S10_Cz_21_26.png', 'S10_Cz_21_27.png', 'S10_Cz_21_29.png', 'S10_Cz_21_30.png', 'S10_Cz_21_28.png', 'S10_Cz_21_31.png', 'S10_Cz_21_32.png', 'S10_Cz_21_34.png', 'S10_Cz_21_33.png', 'S10_Cz_21_36.png', 'S10_Cz_21_35.png', 'S10_Cz_21_37.png', 'S10_Cz_21_38.png', 'S10_Cz_21_39.png', 'S10_Cz_21_41.png', 'S10_Cz_21_40.png', 'S10_Cz_21_43.png', 'S10_Cz_21_42.png', 'S10_Cz_21_44.png', 'S10_Cz_21_45.png', 'S10_Cz_21_46.png', 'S10_C1_21_3.png', 'S10_C1_21_1.png', 'S10_C1_21_0.png', 'S10_C1_21_2.png', 'S10_C1_21_4.png', 'S10_C1_21_5.png', 'S10_C1_21_11.png', 'S10_C1_21_8.png', 'S10_C1_21_7.png', 'S10_C1_21_9.png', 'S10_C1_21_6.png', 'S10_C1_21_10.png', 'S10_C1_21_13.png', 'S10_C1_21_12.png', 'S10_C1_21_15.png', 'S10_C1_21_14.png', 'S10_C1_21_17.png', 'S10_C1_21_16.png', 'S10_C1_21_18.png', 'S10_C1_21_21.png', 'S10_C1_21_19.png', 'S10_C1_21_20.png', 'S10_C1_21_23.png', 'S10_C1_21_24.png', 'S10_C1_21_22.png', 'S10_C1_21_25.png', 'S10_C1_21_26.png', 'S10_C1_21_28.png', 'S10_C1_21_27.png', 'S10_C1_21_29.png', 'S10_C1_21_30.png', 'S10_C1_21_31.png', 'S10_C1_21_32.png', 'S10_C1_21_33.png', 'S10_C1_21_34.png', 'S10_C1_21_35.png', 'S10_C1_21_37.png', 'S10_C1_21_36.png', 'S10_C1_21_38.png', 'S10_C1_21_40.png', 'S10_C1_21_39.png', 'S10_C1_21_41.png', 'S10_C1_21_43.png', 'S10_C1_21_42.png', 'S10_C1_21_45.png', 'S10_C1_21_44.png', 'S10_C1_21_46.png', 'S10_C2_21_4.png', 'S10_C2_21_0.png', 'S10_C2_21_3.png', 'S10_C2_21_2.png', 'S10_C2_21_1.png', 'S10_C2_21_7.png', 'S10_C2_21_5.png', 'S10_C2_21_9.png', 'S10_C2_21_8.png', 'S10_C2_21_6.png', 'S10_C2_21_10.png', 'S10_C2_21_14.png', 'S10_C2_21_12.png', 'S10_C2_21_11.png', 'S10_C2_21_15.png', 'S10_C2_21_13.png', 'S10_C2_21_17.png', 'S10_C2_21_16.png', 'S10_C2_21_18.png', 'S10_C2_21_21.png', 'S10_C2_21_20.png', 'S10_C2_21_19.png', 'S10_C2_21_23.png', 'S10_C2_21_22.png', 'S10_C2_21_24.png', 'S10_C2_21_26.png', 'S10_C2_21_25.png', 'S10_C2_21_27.png', 'S10_C2_21_29.png', 'S10_C2_21_28.png', 'S10_C2_21_31.png', 'S10_C2_21_30.png', 'S10_C2_21_32.png', 'S10_C2_21_33.png', 'S10_C2_21_35.png', 'S10_C2_21_34.png', 'S10_C2_21_36.png', 'S10_C2_21_37.png', 'S10_C2_21_39.png', 'S10_C2_21_38.png', 'S10_C2_21_40.png', 'S10_C2_21_42.png', 'S10_C2_21_41.png', 'S10_C2_21_43.png', 'S10_C2_21_45.png', 'S10_C2_21_44.png', 'S10_C2_21_46.png', 'S11_Cz_21_0.png', 'S11_Cz_21_1.png', 'S11_Cz_21_2.png', 'S11_Cz_21_3.png', 'S11_Cz_21_4.png', 'S11_Cz_21_5.png', 'S11_Cz_21_6.png', 'S11_Cz_21_7.png', 'S11_Cz_21_8.png', 'S11_Cz_21_9.png', 'S11_Cz_21_10.png', 'S11_Cz_21_11.png', 'S11_Cz_21_12.png', 'S11_Cz_21_13.png', 'S11_Cz_21_14.png', 'S11_Cz_21_15.png', 'S11_Cz_21_16.png', 'S11_Cz_21_17.png', 'S11_Cz_21_18.png', 'S11_Cz_21_19.png', 'S11_Cz_21_20.png', 'S11_Cz_21_21.png', 'S11_Cz_21_22.png', 'S11_Cz_21_23.png', 'S11_Cz_21_24.png', 'S11_Cz_21_25.png', 'S11_Cz_21_26.png', 'S11_C1_21_0.png', 'S11_C1_21_1.png', 'S11_C1_21_2.png', 'S11_C1_21_3.png', 'S11_C1_21_4.png', 'S11_C1_21_5.png', 'S11_C1_21_6.png', 'S11_C1_21_7.png', 'S11_C1_21_8.png', 'S11_C1_21_9.png', 'S11_C1_21_10.png', 'S11_C1_21_11.png', 'S11_C1_21_12.png', 'S11_C1_21_13.png', 'S11_C1_21_14.png', 'S11_C1_21_15.png', 'S11_C1_21_16.png', 'S11_C1_21_17.png', 'S11_C1_21_18.png', 'S11_C1_21_19.png', 'S11_C1_21_20.png', 'S11_C1_21_21.png', 'S11_C1_21_22.png', 'S11_C1_21_23.png', 'S11_C1_21_24.png', 'S11_C1_21_25.png', 'S11_C1_21_26.png', 'S11_C2_21_0.png', 'S11_C2_21_2.png', 'S11_C2_21_7.png', 'S11_C2_21_3.png', 'S11_C2_21_6.png', 'S11_C2_21_8.png', 'S11_C2_21_1.png', 'S11_C2_21_5.png', 'S11_C2_21_4.png', 'S11_C2_21_11.png', 'S11_C2_21_12.png', 'S11_C2_21_13.png', 'S11_C2_21_9.png', 'S11_C2_21_10.png', 'S11_C2_21_16.png', 'S11_C2_21_15.png', 'S11_C2_21_14.png', 'S11_C2_21_17.png', 'S11_C2_21_20.png', 'S11_C2_21_18.png', 'S11_C2_21_19.png', 'S11_C2_21_23.png', 'S11_C2_21_22.png', 'S11_C2_21_21.png', 'S11_C2_21_24.png', 'S11_C2_21_25.png', 'S11_C2_21_26.png', 'S12_Cz_21_4.png', 'S12_Cz_21_1.png', 'S12_Cz_21_7.png', 'S12_Cz_21_2.png', 'S12_Cz_21_0.png', 'S12_Cz_21_3.png', 'S12_Cz_21_5.png', 'S12_Cz_21_6.png', 'S12_Cz_21_12.png', 'S12_Cz_21_11.png', 'S12_Cz_21_9.png', 'S12_Cz_21_10.png', 'S12_Cz_21_8.png', 'S12_Cz_21_13.png', 'S12_Cz_21_15.png', 'S12_Cz_21_16.png', 'S12_Cz_21_14.png', 'S12_Cz_21_17.png', 'S12_Cz_21_19.png', 'S12_Cz_21_18.png', 'S12_Cz_21_22.png', 'S12_Cz_21_20.png', 'S12_Cz_21_21.png', 'S12_Cz_21_23.png', 'S12_Cz_21_24.png', 'S12_Cz_21_27.png', 'S12_Cz_21_25.png', 'S12_Cz_21_26.png', 'S12_Cz_21_28.png', 'S12_Cz_21_29.png', 'S12_Cz_21_30.png', 'S12_Cz_21_31.png', 'S12_Cz_21_33.png', 'S12_Cz_21_32.png', 'S12_Cz_21_34.png', 'S12_Cz_21_35.png', 'S12_Cz_21_36.png', 'S12_Cz_21_38.png', 'S12_Cz_21_37.png', 'S12_Cz_21_39.png', 'S12_Cz_21_40.png', 'S12_Cz_21_41.png', 'S12_Cz_21_43.png', 'S12_Cz_21_42.png', 'S12_Cz_21_44.png', 'S12_Cz_21_45.png', 'S12_Cz_21_46.png', 'S12_Cz_21_47.png', 'S12_Cz_21_49.png', 'S12_Cz_21_48.png', 'S12_Cz_21_50.png', 'S12_Cz_21_51.png', 'S12_Cz_21_52.png', 'S12_Cz_21_54.png', 'S12_Cz_21_53.png', 'S12_C1_21_6.png', 'S12_C1_21_5.png', 'S12_C1_21_3.png', 'S12_C1_21_0.png', 'S12_C1_21_1.png', 'S12_C1_21_2.png', 'S12_C1_21_4.png', 'S12_C1_21_8.png', 'S12_C1_21_10.png', 'S12_C1_21_9.png', 'S12_C1_21_7.png', 'S12_C1_21_11.png', 'S12_C1_21_12.png', 'S12_C1_21_14.png', 'S12_C1_21_15.png', 'S12_C1_21_13.png', 'S12_C1_21_18.png', 'S12_C1_21_16.png', 'S12_C1_21_17.png', 'S12_C1_21_20.png', 'S12_C1_21_19.png', 'S12_C1_21_21.png', 'S12_C1_21_22.png', 'S12_C1_21_24.png', 'S12_C1_21_23.png', 'S12_C1_21_26.png', 'S12_C1_21_25.png', 'S12_C1_21_28.png', 'S12_C1_21_27.png', 'S12_C1_21_29.png', 'S12_C1_21_30.png', 'S12_C1_21_31.png', 'S12_C1_21_32.png', 'S12_C1_21_33.png', 'S12_C1_21_34.png', 'S12_C1_21_35.png', 'S12_C1_21_36.png', 'S12_C1_21_37.png', 'S12_C1_21_38.png', 'S12_C1_21_39.png', 'S12_C1_21_40.png', 'S12_C1_21_42.png', 'S12_C1_21_41.png', 'S12_C1_21_43.png', 'S12_C1_21_44.png', 'S12_C1_21_45.png', 'S12_C1_21_46.png', 'S12_C1_21_47.png', 'S12_C1_21_48.png', 'S12_C1_21_50.png', 'S12_C1_21_49.png', 'S12_C1_21_51.png', 'S12_C1_21_52.png', 'S12_C1_21_53.png', 'S12_C1_21_54.png', 'S12_C2_21_5.png', 'S12_C2_21_3.png', 'S12_C2_21_8.png', 'S12_C2_21_0.png', 'S12_C2_21_4.png', 'S12_C2_21_7.png', 'S12_C2_21_2.png', 'S12_C2_21_1.png', 'S12_C2_21_6.png', 'S12_C2_21_9.png', 'S12_C2_21_12.png', 'S12_C2_21_10.png', 'S12_C2_21_11.png', 'S12_C2_21_14.png', 'S12_C2_21_13.png', 'S12_C2_21_15.png', 'S12_C2_21_16.png', 'S12_C2_21_17.png', 'S12_C2_21_18.png', 'S12_C2_21_19.png', 'S12_C2_21_22.png', 'S12_C2_21_20.png', 'S12_C2_21_21.png', 'S12_C2_21_24.png', 'S12_C2_21_23.png', 'S12_C2_21_26.png', 'S12_C2_21_25.png', 'S12_C2_21_27.png', 'S12_C2_21_28.png', 'S12_C2_21_29.png', 'S12_C2_21_30.png', 'S12_C2_21_31.png', 'S12_C2_21_32.png', 'S12_C2_21_33.png', 'S12_C2_21_34.png', 'S12_C2_21_35.png', 'S12_C2_21_36.png', 'S12_C2_21_37.png', 'S12_C2_21_38.png', 'S12_C2_21_39.png', 'S12_C2_21_40.png', 'S12_C2_21_41.png', 'S12_C2_21_42.png', 'S12_C2_21_43.png', 'S12_C2_21_44.png', 'S12_C2_21_45.png', 'S12_C2_21_46.png', 'S12_C2_21_47.png', 'S12_C2_21_48.png', 'S12_C2_21_49.png', 'S12_C2_21_50.png', 'S12_C2_21_51.png', 'S12_C2_21_52.png', 'S12_C2_21_53.png', 'S12_C2_21_54.png', 'S01_Cz_21_6.png', 'S01_Cz_21_3.png', 'S01_Cz_21_5.png', 'S01_Cz_21_1.png', 'S01_Cz_21_4.png', 'S01_Cz_21_2.png', 'S01_Cz_21_0.png', 'S01_Cz_21_8.png', 'S01_Cz_21_12.png', 'S01_Cz_21_7.png', 'S01_Cz_21_9.png', 'S01_Cz_21_11.png', 'S01_Cz_21_10.png', 'S01_Cz_21_14.png', 'S01_Cz_21_13.png', 'S01_Cz_21_16.png', 'S01_Cz_21_15.png', 'S01_Cz_21_18.png', 'S01_Cz_21_19.png', 'S01_Cz_21_17.png', 'S01_Cz_21_22.png', 'S01_Cz_21_21.png', 'S01_Cz_21_20.png', 'S01_Cz_21_24.png', 'S01_Cz_21_23.png', 'S01_Cz_21_26.png', 'S01_Cz_21_27.png', 'S01_Cz_21_25.png', 'S01_Cz_21_29.png', 'S01_Cz_21_28.png', 'S01_Cz_21_31.png', 'S01_Cz_21_30.png', 'S01_Cz_21_33.png', 'S01_Cz_21_32.png', 'S01_Cz_21_34.png', 'S01_Cz_21_35.png', 'S01_Cz_21_36.png', 'S01_Cz_21_37.png', 'S01_Cz_21_38.png', 'S01_Cz_21_40.png', 'S01_Cz_21_39.png', 'S01_Cz_21_41.png', 'S01_Cz_21_42.png', 'S01_Cz_21_43.png', 'S01_Cz_21_45.png', 'S01_Cz_21_44.png', 'S01_Cz_21_46.png', 'S01_Cz_21_48.png', 'S01_Cz_21_47.png', 'S01_Cz_21_49.png', 'S01_Cz_21_50.png', 'S01_C1_21_0.png', 'S01_C1_21_3.png', 'S01_C1_21_2.png', 'S01_C1_21_7.png', 'S01_C1_21_5.png', 'S01_C1_21_6.png', 'S01_C1_21_4.png', 'S01_C1_21_8.png', 'S01_C1_21_1.png', 'S01_C1_21_11.png', 'S01_C1_21_10.png', 'S01_C1_21_9.png', 'S01_C1_21_13.png', 'S01_C1_21_12.png', 'S01_C1_21_16.png', 'S01_C1_21_17.png', 'S01_C1_21_15.png', 'S01_C1_21_14.png', 'S01_C1_21_19.png', 'S01_C1_21_20.png', 'S01_C1_21_18.png', 'S01_C1_21_22.png', 'S01_C1_21_21.png', 'S01_C1_21_23.png', 'S01_C1_21_25.png', 'S01_C1_21_24.png', 'S01_C1_21_27.png', 'S01_C1_21_26.png', 'S01_C1_21_29.png', 'S01_C1_21_28.png', 'S01_C1_21_31.png', 'S01_C1_21_30.png', 'S01_C1_21_33.png', 'S01_C1_21_32.png', 'S01_C1_21_35.png', 'S01_C1_21_34.png', 'S01_C1_21_36.png', 'S01_C1_21_38.png', 'S01_C1_21_37.png', 'S01_C1_21_40.png', 'S01_C1_21_39.png', 'S01_C1_21_41.png', 'S01_C1_21_42.png', 'S01_C1_21_43.png', 'S01_C1_21_44.png', 'S01_C1_21_46.png', 'S01_C1_21_45.png', 'S01_C1_21_47.png', 'S01_C1_21_49.png', 'S01_C1_21_48.png', 'S01_C1_21_50.png', 'S01_C2_21_0.png', 'S01_C2_21_1.png', 'S01_C2_21_2.png', 'S01_C2_21_3.png', 'S01_C2_21_4.png', 'S01_C2_21_5.png', 'S01_C2_21_6.png', 'S01_C2_21_7.png', 'S01_C2_21_9.png', 'S01_C2_21_8.png', 'S01_C2_21_10.png', 'S01_C2_21_11.png', 'S01_C2_21_12.png', 'S01_C2_21_13.png', 'S01_C2_21_14.png', 'S01_C2_21_15.png', 'S01_C2_21_16.png', 'S01_C2_21_17.png', 'S01_C2_21_18.png', 'S01_C2_21_19.png', 'S01_C2_21_20.png', 'S01_C2_21_21.png', 'S01_C2_21_22.png', 'S01_C2_21_23.png', 'S01_C2_21_24.png', 'S01_C2_21_25.png', 'S01_C2_21_26.png', 'S01_C2_21_27.png', 'S01_C2_21_28.png', 'S01_C2_21_29.png', 'S01_C2_21_30.png', 'S01_C2_21_31.png', 'S01_C2_21_32.png', 'S01_C2_21_33.png', 'S01_C2_21_34.png', 'S01_C2_21_35.png', 'S01_C2_21_36.png', 'S01_C2_21_37.png', 'S01_C2_21_38.png', 'S01_C2_21_39.png', 'S01_C2_21_40.png', 'S01_C2_21_41.png', 'S01_C2_21_42.png', 'S01_C2_21_43.png', 'S01_C2_21_44.png', 'S01_C2_21_45.png', 'S01_C2_21_46.png', 'S01_C2_21_47.png', 'S01_C2_21_48.png', 'S01_C2_21_49.png', 'S01_C2_21_50.png', 'S02_C2_21_8.png', 'S02_C2_21_1.png', 'S02_C2_21_4.png', 'S02_C2_21_0.png', 'S02_C2_21_3.png', 'S02_C2_21_7.png', 'S02_C2_21_2.png', 'S02_C2_21_5.png', 'S02_C2_21_6.png', 'S02_C2_21_10.png', 'S02_C2_21_9.png', 'S02_C2_21_13.png', 'S02_C2_21_11.png', 'S02_C2_21_12.png', 'S02_C2_21_16.png', 'S02_C2_21_14.png', 'S02_C2_21_15.png', 'S02_C2_21_17.png', 'S02_C2_21_20.png', 'S02_C2_21_19.png', 'S02_C2_21_18.png', 'S02_C2_21_21.png', 'S02_C2_21_22.png', 'S02_C1_21_2.png', 'S02_C1_21_3.png', 'S02_C1_21_1.png', 'S02_C1_21_5.png', 'S02_C1_21_0.png', 'S02_C1_21_6.png', 'S02_C1_21_4.png', 'S02_C1_21_8.png', 'S02_C1_21_10.png', 'S02_C1_21_7.png', 'S02_C1_21_11.png', 'S02_C1_21_9.png', 'S02_C1_21_13.png', 'S02_C1_21_14.png', 'S02_C1_21_12.png', 'S02_C1_21_15.png', 'S02_C1_21_19.png', 'S02_C1_21_18.png', 'S02_C1_21_16.png', 'S02_C1_21_17.png', 'S02_C1_21_22.png', 'S02_C1_21_21.png', 'S02_C1_21_20.png', 'S02_Cz_21_2.png', 'S02_Cz_21_0.png', 'S02_Cz_21_1.png', 'S02_Cz_21_6.png', 'S02_Cz_21_7.png', 'S02_Cz_21_9.png', 'S02_Cz_21_5.png', 'S02_Cz_21_4.png', 'S02_Cz_21_8.png', 'S02_Cz_21_3.png', 'S02_Cz_21_13.png', 'S02_Cz_21_12.png', 'S02_Cz_21_11.png', 'S02_Cz_21_10.png', 'S02_Cz_21_14.png', 'S02_Cz_21_18.png', 'S02_Cz_21_16.png', 'S02_Cz_21_15.png', 'S02_Cz_21_17.png', 'S02_Cz_21_21.png', 'S02_Cz_21_20.png', 'S02_Cz_21_19.png', 'S02_Cz_21_22.png', 'S03_Cz_21_1 (1).png', 'S03_Cz_21_0 (1).png', 'S03_Cz_21_9 (1).png', 'S03_Cz_21_6 (1).png', 'S03_Cz_21_4 (1).png', 'S03_Cz_21_2 (1).png', 'S03_Cz_21_7 (1).png', 'S03_Cz_21_3 (1).png', 'S03_Cz_21_5 (1).png', 'S03_Cz_21_8 (1).png', 'S03_Cz_21_11 (1).png', 'S03_Cz_21_13 (1).png', 'S03_Cz_21_12 (1).png', 'S03_Cz_21_10 (1).png', 'S03_Cz_21_15 (1).png', 'S03_Cz_21_14 (1).png', 'S03_Cz_21_17 (1).png', 'S03_Cz_21_16 (1).png', 'S03_Cz_21_20 (1).png', 'S03_Cz_21_19 (1).png', 'S03_Cz_21_18 (1).png', 'S03_Cz_21_22 (1).png', 'S03_Cz_21_21 (1).png', 'S03_Cz_21_23 (1).png', 'S03_Cz_21_24 (1).png', 'S03_Cz_21_25 (1).png', 'S03_Cz_21_26 (1).png', 'S03_Cz_21_1.png', 'S03_Cz_21_6.png', 'S03_Cz_21_4.png', 'S03_Cz_21_5.png', 'S03_Cz_21_0.png', 'S03_Cz_21_2.png', 'S03_Cz_21_3.png', 'S03_Cz_21_11.png', 'S03_Cz_21_10.png', 'S03_Cz_21_9.png', 'S03_Cz_21_7.png', 'S03_Cz_21_8.png', 'S03_Cz_21_13.png', 'S03_Cz_21_14.png', 'S03_Cz_21_15.png', 'S03_Cz_21_12.png', 'S03_Cz_21_18.png', 'S03_Cz_21_19.png', 'S03_Cz_21_17.png', 'S03_Cz_21_16.png', 'S03_Cz_21_21.png', 'S03_Cz_21_20.png', 'S03_Cz_21_22.png', 'S03_Cz_21_24.png', 'S03_Cz_21_23.png', 'S03_Cz_21_26.png', 'S03_Cz_21_25.png', 'S03_C1_21_1.png', 'S03_C1_21_0.png', 'S03_C1_21_4.png', 'S03_C1_21_2.png', 'S03_C1_21_3.png', 'S03_C1_21_6.png', 'S03_C1_21_5.png', 'S03_C1_21_7.png', 'S03_C1_21_9.png', 'S03_C1_21_8.png', 'S03_C1_21_14.png', 'S03_C1_21_11.png', 'S03_C1_21_13.png', 'S03_C1_21_10.png', 'S03_C1_21_12.png', 'S03_C1_21_16.png', 'S03_C1_21_15.png', 'S03_C1_21_17.png', 'S03_C1_21_19.png', 'S03_C1_21_18.png', 'S03_C1_21_20.png', 'S03_C1_21_22.png', 'S03_C1_21_23.png', 'S03_C1_21_21.png', 'S03_C1_21_26.png', 'S03_C1_21_24.png', 'S03_C1_21_25.png', 'S03_C2_21_1.png', 'S03_C2_21_3.png', 'S03_C2_21_2.png', 'S03_C2_21_0.png', 'S03_C2_21_4.png', 'S03_C2_21_5.png', 'S03_C2_21_8.png', 'S03_C2_21_11.png', 'S03_C2_21_9.png', 'S03_C2_21_7.png', 'S03_C2_21_10.png', 'S03_C2_21_6.png', 'S03_C2_21_12.png', 'S03_C2_21_14.png', 'S03_C2_21_13.png', 'S03_C2_21_15.png', 'S03_C2_21_17.png', 'S03_C2_21_18.png', 'S03_C2_21_16.png', 'S03_C2_21_20.png', 'S03_C2_21_21.png', 'S03_C2_21_19.png', 'S03_C2_21_22.png', 'S03_C2_21_23.png', 'S03_C2_21_24.png', 'S03_C2_21_25.png', 'S03_C2_21_26.png', 'S04_Cz_21_6.png', 'S04_Cz_21_0.png', 'S04_Cz_21_5.png', 'S04_Cz_21_1.png', 'S04_Cz_21_3.png', 'S04_Cz_21_4.png', 'S04_Cz_21_2.png', 'S04_Cz_21_10.png', 'S04_Cz_21_8.png', 'S04_Cz_21_11.png', 'S04_Cz_21_9.png', 'S04_Cz_21_7.png', 'S04_Cz_21_15.png', 'S04_Cz_21_12.png', 'S04_Cz_21_13.png', 'S04_Cz_21_14.png', 'S04_Cz_21_18.png', 'S04_Cz_21_16.png', 'S04_Cz_21_17.png', 'S04_Cz_21_19.png', 'S04_Cz_21_20.png', 'S04_Cz_21_21.png', 'S04_Cz_21_23.png', 'S04_Cz_21_22.png', 'S04_Cz_21_24.png', 'S04_Cz_21_26.png', 'S04_Cz_21_25.png', 'S04_Cz_21_27.png', 'S04_Cz_21_28.png', 'S04_Cz_21_29.png', 'S04_Cz_21_30.png', 'S04_Cz_21_31.png', 'S04_Cz_21_32.png', 'S04_Cz_21_34.png', 'S04_Cz_21_33.png', 'S04_Cz_21_35.png', 'S04_Cz_21_36.png', 'S04_Cz_21_37.png', 'S04_Cz_21_38.png', 'S04_Cz_21_39.png', 'S04_Cz_21_40.png', 'S04_Cz_21_41.png', 'S04_Cz_21_42.png', 'S04_Cz_21_44.png', 'S04_Cz_21_43.png', 'S04_Cz_21_45.png', 'S04_Cz_21_47.png', 'S04_Cz_21_46.png', 'S04_Cz_21_48.png', 'S04_Cz_21_49.png', 'S04_Cz_21_51.png', 'S04_Cz_21_50.png', 'S04_Cz_21_52.png', 'S04_Cz_21_53.png', 'S04_Cz_21_54.png', 'S04_Cz_21_55.png', 'S04_C1_21_4.png', 'S04_C1_21_1.png', 'S04_C1_21_2.png', 'S04_C1_21_0.png', 'S04_C1_21_3.png', 'S04_C1_21_5.png', 'S04_C1_21_6.png', 'S04_C1_21_7.png', 'S04_C1_21_8.png', 'S04_C1_21_10.png', 'S04_C1_21_12.png', 'S04_C1_21_13.png', 'S04_C1_21_9.png', 'S04_C1_21_11.png', 'S04_C1_21_15.png', 'S04_C1_21_14.png', 'S04_C1_21_17.png', 'S04_C1_21_16.png', 'S04_C1_21_20.png', 'S04_C1_21_19.png', 'S04_C1_21_18.png']\n"
          ],
          "name": "stdout"
        }
      ]
    },
    {
      "cell_type": "code",
      "metadata": {
        "colab": {
          "base_uri": "https://localhost:8080/"
        },
        "id": "niHhmIgsFdu1",
        "outputId": "45c21f82-f369-4a57-b23c-b7644f7ef3e4"
      },
      "source": [
        "#preparando e visualizando modelo \n",
        "model=VGG16(weights='imagenet', include_top=False, pooling=max)\n",
        "model.summary()"
      ],
      "execution_count": null,
      "outputs": [
        {
          "output_type": "stream",
          "text": [
            "Model: \"vgg16\"\n",
            "_________________________________________________________________\n",
            "Layer (type)                 Output Shape              Param #   \n",
            "=================================================================\n",
            "input_8 (InputLayer)         [(None, None, None, 3)]   0         \n",
            "_________________________________________________________________\n",
            "block1_conv1 (Conv2D)        (None, None, None, 64)    1792      \n",
            "_________________________________________________________________\n",
            "block1_conv2 (Conv2D)        (None, None, None, 64)    36928     \n",
            "_________________________________________________________________\n",
            "block1_pool (MaxPooling2D)   (None, None, None, 64)    0         \n",
            "_________________________________________________________________\n",
            "block2_conv1 (Conv2D)        (None, None, None, 128)   73856     \n",
            "_________________________________________________________________\n",
            "block2_conv2 (Conv2D)        (None, None, None, 128)   147584    \n",
            "_________________________________________________________________\n",
            "block2_pool (MaxPooling2D)   (None, None, None, 128)   0         \n",
            "_________________________________________________________________\n",
            "block3_conv1 (Conv2D)        (None, None, None, 256)   295168    \n",
            "_________________________________________________________________\n",
            "block3_conv2 (Conv2D)        (None, None, None, 256)   590080    \n",
            "_________________________________________________________________\n",
            "block3_conv3 (Conv2D)        (None, None, None, 256)   590080    \n",
            "_________________________________________________________________\n",
            "block3_pool (MaxPooling2D)   (None, None, None, 256)   0         \n",
            "_________________________________________________________________\n",
            "block4_conv1 (Conv2D)        (None, None, None, 512)   1180160   \n",
            "_________________________________________________________________\n",
            "block4_conv2 (Conv2D)        (None, None, None, 512)   2359808   \n",
            "_________________________________________________________________\n",
            "block4_conv3 (Conv2D)        (None, None, None, 512)   2359808   \n",
            "_________________________________________________________________\n",
            "block4_pool (MaxPooling2D)   (None, None, None, 512)   0         \n",
            "_________________________________________________________________\n",
            "block5_conv1 (Conv2D)        (None, None, None, 512)   2359808   \n",
            "_________________________________________________________________\n",
            "block5_conv2 (Conv2D)        (None, None, None, 512)   2359808   \n",
            "_________________________________________________________________\n",
            "block5_conv3 (Conv2D)        (None, None, None, 512)   2359808   \n",
            "_________________________________________________________________\n",
            "block5_pool (MaxPooling2D)   (None, None, None, 512)   0         \n",
            "=================================================================\n",
            "Total params: 14,714,688\n",
            "Trainable params: 14,714,688\n",
            "Non-trainable params: 0\n",
            "_________________________________________________________________\n"
          ],
          "name": "stdout"
        }
      ]
    },
    {
      "cell_type": "code",
      "metadata": {
        "id": "b6KPhkGUFfXU"
      },
      "source": [
        "#feature extrarion\n",
        "list_feat=[]\n",
        "for i in esq:\n",
        "  img_path = \"/content/drive/MyDrive/Dataset_VGG/11(esq)/\" + i \n",
        "  img = image.load_img(img_path, target_size=(224, 224))\n",
        "  img_data = image.img_to_array(img)\n",
        "  img_data = np.expand_dims(img_data, axis=0)\n",
        "  img_data = preprocess_input(img_data)\n",
        "\n",
        "  vgg16_feature = model.predict(img_data)\n",
        "  #tf.keras.layers.GlobalMaxPooling2D()(vgg16_feature)\n",
        "  vgg16_feature_np = np.array(vgg16_feature)\n",
        "  list_feat.append(vgg16_feature_np.flatten())\n",
        "for i in dir:\n",
        "  img_path = \"/content/drive/MyDrive/Dataset_VGG/21(dir)/\" + i \n",
        "  img = image.load_img(img_path, target_size=(224, 224))\n",
        "  img_data = image.img_to_array(img)\n",
        "  img_data = np.expand_dims(img_data, axis=0)\n",
        "  img_data = preprocess_input(img_data)\n",
        "\n",
        "  vgg16_feature = model.predict(img_data)\n",
        "  #tf.keras.layers.GlobalMaxPooling2D()(vgg16_feature)\n",
        "  vgg16_feature_np = np.array(vgg16_feature)\n",
        "  list_feat.append(vgg16_feature_np.flatten())\n",
        "  list_feat_np = np.array(list_feat)\n"
      ],
      "execution_count": null,
      "outputs": []
    },
    {
      "cell_type": "code",
      "metadata": {
        "colab": {
          "base_uri": "https://localhost:8080/"
        },
        "id": "FRr_YT1myPA5",
        "outputId": "6e7030dd-9366-4347-b698-f3c1110065fc"
      },
      "source": [
        "list_feat_np.shape"
      ],
      "execution_count": null,
      "outputs": [
        {
          "output_type": "execute_result",
          "data": {
            "text/plain": [
              "(2753, 25088)"
            ]
          },
          "metadata": {
            "tags": []
          },
          "execution_count": 15
        }
      ]
    },
    {
      "cell_type": "code",
      "metadata": {
        "id": "Nthh7GoYT9Oq"
      },
      "source": [
        "np.save(\"feats_512.npy\",list_feat_np)"
      ],
      "execution_count": null,
      "outputs": []
    },
    {
      "cell_type": "code",
      "metadata": {
        "id": "Gu3XwH7bVs0f"
      },
      "source": [
        "#montando o neuronio\n",
        "model = Sequential()\n",
        "model.add(Dense(1, init=’uniform’, input_shape=(1,)))\n",
        "LEARNING_RATE =0.05\n",
        "model.compile(optimizer=Adam(lr=LEARNING_RATE), loss=’mse’)\n",
        "model.fit(X_train, Y_train, batch_size=1, nb_epoch=20, verbose=1, validation_split=0.2)"
      ],
      "execution_count": null,
      "outputs": []
    }
  ]
}